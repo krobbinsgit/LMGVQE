{
 "cells": [
  {
   "cell_type": "markdown",
   "id": "5d1deb0b-7dcc-48bf-9f0f-61d82332c89b",
   "metadata": {},
   "source": [
    "# Simulating an Exactly-Solvable Nuclear Model with Quantum Computing\n",
    "\n",
    "## Summary\n",
    "This example code will generate the quantum circuits necessary to prepare any eigenstate of the Lipkin-Meshkov-Glick (LMG) model. It will then run these circuits on a noiseless quantum computing simulator and analyze the measured results to produce an estimate of the expectation value of the LMG Hamiltonian $\\langle H\\rangle$.\n",
    "\n",
    "Because the LMG model is exactly solvable, we can efficiently create and diagonalize the LMG Hamiltonian for its eigensystem. We can then take an eigenstate and prepare it directly with a specialized quantum circuit. Afterwards, we make measurements on the resultant states and use them to estimate $\\langle H\\rangle$. Finally we can compare the estimated expectation value with the previously-calculated eigenstate.\n",
    "\n",
    "Due to sampling variation, this code should produce an estimate within one standard error of the expected mean on the order of $70\\%$ of the time.\n",
    "\n",
    "### Similarities to VQE\n",
    "\n",
    "\n",
    "\n",
    "\n",
    "\n",
    "\n"
   ]
  },
  {
   "cell_type": "markdown",
   "id": "eb7d49ea-5460-4d37-9cbe-0b181433ce3d",
   "metadata": {},
   "source": [
    "## Packages and Setup\n",
    "We have already constructed all of the relevant functions. We must import them."
   ]
  },
  {
   "cell_type": "code",
   "execution_count": 1,
   "id": "949f9f89-cb21-422b-848d-1b9bedb35f15",
   "metadata": {},
   "outputs": [],
   "source": [
    "import numpy as np\n",
    "from lmg import total_circuit_runner, state_prep\n",
    "from analyzer import distrfinder\n",
    "from state_generator import state_finder_fock, angle_finder\n",
    "import dwave.gate.simulator\n",
    "import random as ra\n",
    "import matplotlib.pyplot as plt"
   ]
  },
  {
   "cell_type": "markdown",
   "id": "dcc65866-8e8d-4c02-9ec2-707aa9483fa0",
   "metadata": {},
   "source": [
    "## Defining a State to Simulate\n",
    "\n",
    "There are several variables which the user can define to describe a physical model.\n",
    "\n",
    "* $M$ is a positive integer. It defines how many particle pairs are being simulated and is equal to the number of qubits to be used in the circuits.\n",
    "* $V$ is a nonzero real number. It represents the strength of a particular interaction in the model.\n",
    "* $W$ is a real number such that $|W|<|V|$. It represents the strength of a particular interaction in the model.\n",
    "* $\\nu_a$ (`nua`) is either $0$ or $1$. It represents an unpaired particle in the \"a\" mode of the LMG model.\n",
    "* $\\nu_b$ (`nub`) is either $0$ or $1$. It represents an unpaired particle in the \"b\" mode of the LMG model.\n",
    "* `energy_level` is a positive integer between $0$ to $M-1$ (inclusively). It represents which energy state we will prepare with our quantum circuits. Setting `energy_level=0` will prepare the ground state while setting `energy_level=1` will prepare the first excited state and so on."
   ]
  },
  {
   "cell_type": "code",
   "execution_count": 2,
   "id": "979ea19d-0e05-46d5-96d3-657accd6b484",
   "metadata": {},
   "outputs": [
    {
     "name": "stdout",
     "output_type": "stream",
     "text": [
      "The target expectation value is <H> = -21.5406\n"
     ]
    }
   ],
   "source": [
    "'''\n",
    "By default we pick M, V, W, nua, nub and energy_level randomly\n",
    "You can replace them with your own values instead!\n",
    "'''\n",
    "M = ra.randint(1,10)\n",
    "V = ra.uniform(-10,10)\n",
    "W = V * ra.uniform(-0.99,0.99)\n",
    "nua = ra.randint(0,1)\n",
    "nub = ra.randint(0,1)\n",
    "energy_level = ra.randint(0,M-1)\n",
    "targ_val,targ_state = state_finder_fock(M,V,W,nua,nub,energy_level)\n",
    "print(f'The target expectation value is <H> = {np.round(targ_val,4)}')"
   ]
  },
  {
   "cell_type": "markdown",
   "id": "67e38a3a-7c0e-46bd-ac75-f367cdb52f76",
   "metadata": {},
   "source": [
    "## Finding the Ansatz Parameters\n",
    "\n",
    "This demo uses a specialized ansatz circuit which is capable of preparing any eigenstate of the LMG model. It is also possible to solve for the ansatz parameters $\\{\\theta_1,...,\\theta_M\\}$ ahead of time to directly prepare the target state.\n",
    "\n",
    "The `angle_finder()` function takes in the target LMG eigenstate we wish to prepare. It then calculates the specific ansatz parameters so that our special ansatz circuit can prepare the target eigenstate."
   ]
  },
  {
   "cell_type": "code",
   "execution_count": 3,
   "id": "868e4549-5235-4685-8be9-73860a6ac006",
   "metadata": {},
   "outputs": [],
   "source": [
    "ansatz_parameters=angle_finder(targ_state)"
   ]
  },
  {
   "cell_type": "markdown",
   "id": "29da00f2-da8f-426e-a31b-bb663815affe",
   "metadata": {},
   "source": [
    "## Preparing the Circuits, Simulating Them and Measuring\n",
    "\n",
    "Now that we have the ansatz parameters, we can construct our circuits. In this step we shall employ \"parallel measurement;\" a technique which leverages features of quantum mechanics to condense the measurable quantities (\"Paulis\") into groups (\"cliques\") which can be measured simultaneously. This reduces the number of circuits that have to be run.\n",
    "\n",
    "For a generic chemical problem, the number of cliques rises polynomially with the number of particles simulated FIX CITE. For the LMG model in this encoding, we can always configure the Paulis into at most four cliques FIX CITE.\n",
    "\n",
    "The `total_circuit_runner()` function takes in the ansatz parameters as well as the number of shots we want to run and a file name to write the measurement bitstrings to. When called, `total_circuit_runner()` prepares all the quantum circuits, simulates each of them `shots` times, measures the qubits and saves the bitstrings to an external file."
   ]
  },
  {
   "cell_type": "code",
   "execution_count": 4,
   "id": "cb48401f-2483-4ab9-907b-d4b868912967",
   "metadata": {},
   "outputs": [
    {
     "name": "stdout",
     "output_type": "stream",
     "text": [
      "Simulation complete!\n"
     ]
    }
   ],
   "source": [
    "shots = 10**4\n",
    "total_circuit_runner(ansatz_parameters,'test_dest',shots)\n",
    "print('Simulation complete!')"
   ]
  },
  {
   "cell_type": "markdown",
   "id": "de716fad-f97d-408b-8284-89123f6c26dc",
   "metadata": {},
   "source": [
    "## Analyzing the Measurements\n",
    "\n",
    "We now have measured bitstrings, sorted in chronological order, for each circuit we had to run. This is stored in the file written in the `total_circuit_runner()` function. We now have to read these bitstrings and interpret them as contributions to our estimate of the Hamiltonian expectation value.\n",
    "\n",
    "To do so we shall proceed according to FIX CITE RALLI PAPER. Put simply, we take the first measured bitstring for each Pauli, interpret it as a $\\pm 1$, multiply it by the proper coefficient and then sum. In doing so we obtain a single-shot estimate of the Hamiltonian expectation value. We then repeat for the second measured bitstring and so on, creating a distribution of the measured single-shot estimates. The code is actually doing this for each clique instead of each Pauli.\n",
    "\n",
    "The `distrfinder()` function takes in the physical parameters we defined above as well as the filepath to where we wrote the bitstrings. It then outputs a list of asingle-shot estimates of the Hamiltonian expectation value. It does not need to take in $M$ as an input because this can be directly read from the length of the bitstrings.\n",
    "\n",
    "The image at the end of the calculation is the distribution of the single-shot estimates. The vertical green line is the expected value."
   ]
  },
  {
   "cell_type": "code",
   "execution_count": 5,
   "id": "459b142e-ba66-4826-8798-3e709c6a2a11",
   "metadata": {},
   "outputs": [
    {
     "name": "stdout",
     "output_type": "stream",
     "text": [
      "\n",
      "The known energy value is -21.5406 while we estimated -21.6116\n",
      "The relative error is 0.3%\n",
      "\n"
     ]
    },
    {
     "data": {
      "image/png": "[encoded data removed]",
      "text/plain": [
       "<Figure size 640x480 with 1 Axes>"
      ]
     },
     "metadata": {},
     "output_type": "display_data"
    }
   ],
   "source": [
    "distr = distrfinder(V,W,nua,nub,'test_dest')\n",
    "\n",
    "mean=sum(distr)/len(distr)\n",
    "standard_error=np.std(distr)/np.sqrt(shots)\n",
    "print(f'\\nThe known energy value is {np.round(targ_val,4)} while we estimated {np.round(mean,4)}')\n",
    "print(f'The relative error is {abs(np.round(100*(mean-targ_val)/targ_val,1))}%\\n')\n",
    "# We define bin width as bin_width= 4 * (max(distr) - min(distr)) / np.sqrt(shots)\n",
    "plt.hist(distr, density=True, bins=int(np.sqrt(shots)/4), color='b', label='Single Shot Energy Distribution')  # density=False would make counts\n",
    "plt.ylabel('Counts')\n",
    "plt.axvline(x = targ_val, color = 'g', label = 'calculated_expectation_value')\n",
    "plt.xlabel('Single Shot Estimated Energy')\n",
    "plt.show()"
   ]
  },
  {
   "cell_type": "markdown",
   "id": "f20e4c28-a720-493c-8ca9-f80b2e52099a",
   "metadata": {},
   "source": [
    "Now we have all of our data and can proceed to analyzing it."
   ]
  }
 ],
 "metadata": {
  "kernelspec": {
   "display_name": "Python 3 (ipykernel)",
   "language": "python",
   "name": "python3"
  },
  "language_info": {
   "codemirror_mode": {
    "name": "ipython",
    "version": 3
   },
   "file_extension": ".py",
   "mimetype": "text/x-python",
   "name": "python",
   "nbconvert_exporter": "python",
   "pygments_lexer": "ipython3",
   "version": "3.11.1"
  }
 },
 "nbformat": 4,
 "nbformat_minor": 5
}
